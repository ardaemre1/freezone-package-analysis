{
 "cells": [
  {
   "cell_type": "code",
   "execution_count": 51,
   "id": "13339f29",
   "metadata": {},
   "outputs": [
    {
     "name": "stdout",
     "output_type": "stream",
     "text": [
      "Requirement already satisfied: openpyxl in c:\\python\\python37\\lib\\site-packages (3.1.3)\n",
      "Requirement already satisfied: et-xmlfile in c:\\python\\python37\\lib\\site-packages (from openpyxl) (1.1.0)\n",
      "Note: you may need to restart the kernel to use updated packages.\n"
     ]
    }
   ],
   "source": [
    "%pip install openpyxl\n",
    "import numpy as np\n",
    "import pandas as pd\n",
    "import matplotlib.pyplot as plt"
   ]
  },
  {
   "cell_type": "code",
   "execution_count": 52,
   "id": "bb2302aa",
   "metadata": {},
   "outputs": [],
   "source": [
    "df = pd.read_excel('./data/Gorev2-Abone-Tuketim-Veriseti.xlsx')"
   ]
  },
  {
   "cell_type": "code",
   "execution_count": 53,
   "id": "3488ff11",
   "metadata": {},
   "outputs": [
    {
     "data": {
      "text/html": [
       "<div>\n",
       "<style scoped>\n",
       "    .dataframe tbody tr th:only-of-type {\n",
       "        vertical-align: middle;\n",
       "    }\n",
       "\n",
       "    .dataframe tbody tr th {\n",
       "        vertical-align: top;\n",
       "    }\n",
       "\n",
       "    .dataframe thead th {\n",
       "        text-align: right;\n",
       "    }\n",
       "</style>\n",
       "<table border=\"1\" class=\"dataframe\">\n",
       "  <thead>\n",
       "    <tr style=\"text-align: right;\">\n",
       "      <th></th>\n",
       "      <th>DonemYil</th>\n",
       "      <th>DonemAy</th>\n",
       "      <th>abone_id</th>\n",
       "      <th>abone_adres_sehir</th>\n",
       "      <th>abone_yas_grup</th>\n",
       "      <th>data_tuketim_gb</th>\n",
       "      <th>arama_tuketim_dk</th>\n",
       "      <th>sms_tuketim_adet</th>\n",
       "    </tr>\n",
       "  </thead>\n",
       "  <tbody>\n",
       "    <tr>\n",
       "      <th>0</th>\n",
       "      <td>2025</td>\n",
       "      <td>Eylül</td>\n",
       "      <td>81806878</td>\n",
       "      <td>Konya</td>\n",
       "      <td>40-60</td>\n",
       "      <td>13.405</td>\n",
       "      <td>134</td>\n",
       "      <td>25</td>\n",
       "    </tr>\n",
       "    <tr>\n",
       "      <th>1</th>\n",
       "      <td>2025</td>\n",
       "      <td>Eylül</td>\n",
       "      <td>21999017</td>\n",
       "      <td>Edirne</td>\n",
       "      <td>15-25</td>\n",
       "      <td>3.962</td>\n",
       "      <td>10</td>\n",
       "      <td>18</td>\n",
       "    </tr>\n",
       "    <tr>\n",
       "      <th>2</th>\n",
       "      <td>2025</td>\n",
       "      <td>Eylül</td>\n",
       "      <td>37796365</td>\n",
       "      <td>İstanbul</td>\n",
       "      <td>25-40</td>\n",
       "      <td>10.977</td>\n",
       "      <td>147</td>\n",
       "      <td>2</td>\n",
       "    </tr>\n",
       "    <tr>\n",
       "      <th>3</th>\n",
       "      <td>2025</td>\n",
       "      <td>Eylül</td>\n",
       "      <td>79723041</td>\n",
       "      <td>İstanbul</td>\n",
       "      <td>40-60</td>\n",
       "      <td>10.900</td>\n",
       "      <td>138</td>\n",
       "      <td>14</td>\n",
       "    </tr>\n",
       "    <tr>\n",
       "      <th>4</th>\n",
       "      <td>2025</td>\n",
       "      <td>Eylül</td>\n",
       "      <td>14532637</td>\n",
       "      <td>Mersin</td>\n",
       "      <td>40-60</td>\n",
       "      <td>10.403</td>\n",
       "      <td>144</td>\n",
       "      <td>5</td>\n",
       "    </tr>\n",
       "  </tbody>\n",
       "</table>\n",
       "</div>"
      ],
      "text/plain": [
       "   DonemYil DonemAy  abone_id abone_adres_sehir abone_yas_grup  \\\n",
       "0      2025   Eylül  81806878             Konya          40-60   \n",
       "1      2025   Eylül  21999017            Edirne          15-25   \n",
       "2      2025   Eylül  37796365          İstanbul          25-40   \n",
       "3      2025   Eylül  79723041          İstanbul          40-60   \n",
       "4      2025   Eylül  14532637            Mersin          40-60   \n",
       "\n",
       "   data_tuketim_gb  arama_tuketim_dk  sms_tuketim_adet  \n",
       "0           13.405               134                25  \n",
       "1            3.962                10                18  \n",
       "2           10.977               147                 2  \n",
       "3           10.900               138                14  \n",
       "4           10.403               144                 5  "
      ]
     },
     "execution_count": 53,
     "metadata": {},
     "output_type": "execute_result"
    }
   ],
   "source": [
    "df.head(5)"
   ]
  },
  {
   "cell_type": "code",
   "execution_count": 54,
   "id": "0c796591",
   "metadata": {},
   "outputs": [
    {
     "data": {
      "text/plain": [
       "DonemYil             0\n",
       "DonemAy              0\n",
       "abone_id             0\n",
       "abone_adres_sehir    0\n",
       "abone_yas_grup       0\n",
       "data_tuketim_gb      0\n",
       "arama_tuketim_dk     0\n",
       "sms_tuketim_adet     0\n",
       "dtype: int64"
      ]
     },
     "execution_count": 54,
     "metadata": {},
     "output_type": "execute_result"
    }
   ],
   "source": [
    "df.isnull().sum() # veri analiz edileblilir"
   ]
  },
  {
   "cell_type": "code",
   "execution_count": 55,
   "id": "668b8907",
   "metadata": {},
   "outputs": [
    {
     "data": {
      "text/plain": [
       "İstanbul    361\n",
       "Ankara      140\n",
       "İzmir        97\n",
       "Antalya      77\n",
       "Bursa        62\n",
       "           ... \n",
       "Iğdır         3\n",
       "Ardahan       2\n",
       "Kilis         2\n",
       "Erzincan      1\n",
       "Tunceli       1\n",
       "Name: abone_adres_sehir, Length: 80, dtype: int64"
      ]
     },
     "execution_count": 55,
     "metadata": {},
     "output_type": "execute_result"
    }
   ],
   "source": [
    "abone_sehir = df['abone_adres_sehir'].value_counts()\n",
    "abone_sehir"
   ]
  },
  {
   "cell_type": "code",
   "execution_count": 56,
   "id": "45380d7a",
   "metadata": {},
   "outputs": [
    {
     "name": "stdout",
     "output_type": "stream",
     "text": [
      "<class 'pandas.core.frame.DataFrame'>\n",
      "RangeIndex: 1999 entries, 0 to 1998\n",
      "Data columns (total 8 columns):\n",
      " #   Column             Non-Null Count  Dtype  \n",
      "---  ------             --------------  -----  \n",
      " 0   DonemYil           1999 non-null   int64  \n",
      " 1   DonemAy            1999 non-null   object \n",
      " 2   abone_id           1999 non-null   int64  \n",
      " 3   abone_adres_sehir  1999 non-null   object \n",
      " 4   abone_yas_grup     1999 non-null   object \n",
      " 5   data_tuketim_gb    1999 non-null   float64\n",
      " 6   arama_tuketim_dk   1999 non-null   int64  \n",
      " 7   sms_tuketim_adet   1999 non-null   int64  \n",
      "dtypes: float64(1), int64(4), object(3)\n",
      "memory usage: 125.1+ KB\n"
     ]
    }
   ],
   "source": [
    "df.info() #frame tablomuzu inceledik"
   ]
  },
  {
   "cell_type": "code",
   "execution_count": 57,
   "id": "c6688458",
   "metadata": {},
   "outputs": [
    {
     "data": {
      "text/html": [
       "<div>\n",
       "<style scoped>\n",
       "    .dataframe tbody tr th:only-of-type {\n",
       "        vertical-align: middle;\n",
       "    }\n",
       "\n",
       "    .dataframe tbody tr th {\n",
       "        vertical-align: top;\n",
       "    }\n",
       "\n",
       "    .dataframe thead th {\n",
       "        text-align: right;\n",
       "    }\n",
       "</style>\n",
       "<table border=\"1\" class=\"dataframe\">\n",
       "  <thead>\n",
       "    <tr style=\"text-align: right;\">\n",
       "      <th></th>\n",
       "      <th>DonemYil</th>\n",
       "      <th>DonemAy</th>\n",
       "      <th>abone_id</th>\n",
       "      <th>abone_adres_sehir</th>\n",
       "      <th>abone_yas_grup</th>\n",
       "      <th>data_tuketim_gb</th>\n",
       "      <th>arama_tuketim_dk</th>\n",
       "      <th>sms_tuketim_adet</th>\n",
       "    </tr>\n",
       "  </thead>\n",
       "  <tbody>\n",
       "    <tr>\n",
       "      <th>0</th>\n",
       "      <td>2025</td>\n",
       "      <td>Eylül</td>\n",
       "      <td>81806878</td>\n",
       "      <td>Konya</td>\n",
       "      <td>40-60</td>\n",
       "      <td>13.405</td>\n",
       "      <td>134</td>\n",
       "      <td>25</td>\n",
       "    </tr>\n",
       "    <tr>\n",
       "      <th>1</th>\n",
       "      <td>2025</td>\n",
       "      <td>Eylül</td>\n",
       "      <td>21999017</td>\n",
       "      <td>Edirne</td>\n",
       "      <td>15-25</td>\n",
       "      <td>3.962</td>\n",
       "      <td>10</td>\n",
       "      <td>18</td>\n",
       "    </tr>\n",
       "    <tr>\n",
       "      <th>2</th>\n",
       "      <td>2025</td>\n",
       "      <td>Eylül</td>\n",
       "      <td>37796365</td>\n",
       "      <td>İstanbul</td>\n",
       "      <td>25-40</td>\n",
       "      <td>10.977</td>\n",
       "      <td>147</td>\n",
       "      <td>2</td>\n",
       "    </tr>\n",
       "    <tr>\n",
       "      <th>3</th>\n",
       "      <td>2025</td>\n",
       "      <td>Eylül</td>\n",
       "      <td>79723041</td>\n",
       "      <td>İstanbul</td>\n",
       "      <td>40-60</td>\n",
       "      <td>10.900</td>\n",
       "      <td>138</td>\n",
       "      <td>14</td>\n",
       "    </tr>\n",
       "    <tr>\n",
       "      <th>4</th>\n",
       "      <td>2025</td>\n",
       "      <td>Eylül</td>\n",
       "      <td>14532637</td>\n",
       "      <td>Mersin</td>\n",
       "      <td>40-60</td>\n",
       "      <td>10.403</td>\n",
       "      <td>144</td>\n",
       "      <td>5</td>\n",
       "    </tr>\n",
       "  </tbody>\n",
       "</table>\n",
       "</div>"
      ],
      "text/plain": [
       "   DonemYil DonemAy  abone_id abone_adres_sehir abone_yas_grup  \\\n",
       "0      2025   Eylül  81806878             Konya          40-60   \n",
       "1      2025   Eylül  21999017            Edirne          15-25   \n",
       "2      2025   Eylül  37796365          İstanbul          25-40   \n",
       "3      2025   Eylül  79723041          İstanbul          40-60   \n",
       "4      2025   Eylül  14532637            Mersin          40-60   \n",
       "\n",
       "   data_tuketim_gb  arama_tuketim_dk  sms_tuketim_adet  \n",
       "0           13.405               134                25  \n",
       "1            3.962                10                18  \n",
       "2           10.977               147                 2  \n",
       "3           10.900               138                14  \n",
       "4           10.403               144                 5  "
      ]
     },
     "execution_count": 57,
     "metadata": {},
     "output_type": "execute_result"
    }
   ],
   "source": [
    "df.head() # default olarak ilk 5 satıra göz attık"
   ]
  },
  {
   "cell_type": "code",
   "execution_count": 58,
   "id": "4418eed5",
   "metadata": {},
   "outputs": [
    {
     "data": {
      "text/html": [
       "<div>\n",
       "<style scoped>\n",
       "    .dataframe tbody tr th:only-of-type {\n",
       "        vertical-align: middle;\n",
       "    }\n",
       "\n",
       "    .dataframe tbody tr th {\n",
       "        vertical-align: top;\n",
       "    }\n",
       "\n",
       "    .dataframe thead th {\n",
       "        text-align: right;\n",
       "    }\n",
       "</style>\n",
       "<table border=\"1\" class=\"dataframe\">\n",
       "  <thead>\n",
       "    <tr style=\"text-align: right;\">\n",
       "      <th></th>\n",
       "      <th>DonemYil</th>\n",
       "      <th>abone_id</th>\n",
       "      <th>data_tuketim_gb</th>\n",
       "      <th>arama_tuketim_dk</th>\n",
       "      <th>sms_tuketim_adet</th>\n",
       "    </tr>\n",
       "  </thead>\n",
       "  <tbody>\n",
       "    <tr>\n",
       "      <th>count</th>\n",
       "      <td>1999.0</td>\n",
       "      <td>1.999000e+03</td>\n",
       "      <td>1999.000000</td>\n",
       "      <td>1999.000000</td>\n",
       "      <td>1999.000000</td>\n",
       "    </tr>\n",
       "    <tr>\n",
       "      <th>mean</th>\n",
       "      <td>2025.0</td>\n",
       "      <td>5.290682e+07</td>\n",
       "      <td>12.772172</td>\n",
       "      <td>143.322161</td>\n",
       "      <td>14.671836</td>\n",
       "    </tr>\n",
       "    <tr>\n",
       "      <th>std</th>\n",
       "      <td>0.0</td>\n",
       "      <td>2.180807e+07</td>\n",
       "      <td>7.790180</td>\n",
       "      <td>99.879303</td>\n",
       "      <td>8.621119</td>\n",
       "    </tr>\n",
       "    <tr>\n",
       "      <th>min</th>\n",
       "      <td>2025.0</td>\n",
       "      <td>1.437150e+07</td>\n",
       "      <td>0.125000</td>\n",
       "      <td>6.000000</td>\n",
       "      <td>0.000000</td>\n",
       "    </tr>\n",
       "    <tr>\n",
       "      <th>25%</th>\n",
       "      <td>2025.0</td>\n",
       "      <td>3.410505e+07</td>\n",
       "      <td>6.409000</td>\n",
       "      <td>90.500000</td>\n",
       "      <td>7.000000</td>\n",
       "    </tr>\n",
       "    <tr>\n",
       "      <th>50%</th>\n",
       "      <td>2025.0</td>\n",
       "      <td>5.316932e+07</td>\n",
       "      <td>11.302000</td>\n",
       "      <td>130.000000</td>\n",
       "      <td>15.000000</td>\n",
       "    </tr>\n",
       "    <tr>\n",
       "      <th>75%</th>\n",
       "      <td>2025.0</td>\n",
       "      <td>7.221418e+07</td>\n",
       "      <td>19.345000</td>\n",
       "      <td>215.000000</td>\n",
       "      <td>22.000000</td>\n",
       "    </tr>\n",
       "    <tr>\n",
       "      <th>max</th>\n",
       "      <td>2025.0</td>\n",
       "      <td>8.972179e+07</td>\n",
       "      <td>31.281000</td>\n",
       "      <td>426.000000</td>\n",
       "      <td>29.000000</td>\n",
       "    </tr>\n",
       "  </tbody>\n",
       "</table>\n",
       "</div>"
      ],
      "text/plain": [
       "       DonemYil      abone_id  data_tuketim_gb  arama_tuketim_dk  \\\n",
       "count    1999.0  1.999000e+03      1999.000000       1999.000000   \n",
       "mean     2025.0  5.290682e+07        12.772172        143.322161   \n",
       "std         0.0  2.180807e+07         7.790180         99.879303   \n",
       "min      2025.0  1.437150e+07         0.125000          6.000000   \n",
       "25%      2025.0  3.410505e+07         6.409000         90.500000   \n",
       "50%      2025.0  5.316932e+07        11.302000        130.000000   \n",
       "75%      2025.0  7.221418e+07        19.345000        215.000000   \n",
       "max      2025.0  8.972179e+07        31.281000        426.000000   \n",
       "\n",
       "       sms_tuketim_adet  \n",
       "count       1999.000000  \n",
       "mean          14.671836  \n",
       "std            8.621119  \n",
       "min            0.000000  \n",
       "25%            7.000000  \n",
       "50%           15.000000  \n",
       "75%           22.000000  \n",
       "max           29.000000  "
      ]
     },
     "execution_count": 58,
     "metadata": {},
     "output_type": "execute_result"
    }
   ],
   "source": [
    "df.describe() #describe fonksiyonu ile çeşitli aritmetiksel işlemleri otomatik olarak gördük"
   ]
  },
  {
   "cell_type": "code",
   "execution_count": 59,
   "id": "8101bce1",
   "metadata": {},
   "outputs": [],
   "source": [
    "internet_mean = df[\"data_tuketim_gb\"].mean()\n",
    "call_mean = df[\"arama_tuketim_dk\"].mean()\n",
    "sms_mean = df[\"sms_tuketim_adet\"].mean()"
   ]
  },
  {
   "cell_type": "code",
   "execution_count": 60,
   "id": "198fa25d",
   "metadata": {},
   "outputs": [],
   "source": [
    "packages = {\n",
    "    \"Paket 1\":[10,500,100],\n",
    "    \"Paket 2\":[25,1000,250],\n",
    "    \"Paket 3\":[40,2000,500],\n",
    "}"
   ]
  },
  {
   "cell_type": "code",
   "execution_count": 70,
   "id": "3db70dee",
   "metadata": {},
   "outputs": [],
   "source": [
    "averages = [internet_mean,call_mean,sms_mean]"
   ]
  },
  {
   "cell_type": "code",
   "execution_count": 71,
   "id": "ba04800d",
   "metadata": {},
   "outputs": [
    {
     "name": "stdout",
     "output_type": "stream",
     "text": [
      "Paket 1: İnternet=1.28, Arama=0.29, SMS=0.15\n",
      "Paket 2: İnternet=0.51, Arama=0.14, SMS=0.06\n",
      "Paket 3: İnternet=0.32, Arama=0.07, SMS=0.03\n"
     ]
    }
   ],
   "source": [
    "ratio_data = []\n",
    "for name,values in packages.items():\n",
    "    average_internet = internet_mean / values[0]\n",
    "    average_call = call_mean / values[1]\n",
    "    average_sms = sms_mean / values[2]\n",
    "    \n",
    "    print(f\"{name}: İnternet={average_internet:.2f}, Arama={average_call:.2f}, SMS={average_sms:.2f}\")\n",
    "    averageS = [average_internet, average_call, average_sms]\n",
    "    \n",
    "    ratio_data.append([name] + averageS)\n",
    "\n",
    "\n",
    "    \n"
   ]
  },
  {
   "cell_type": "code",
   "execution_count": 72,
   "id": "a69f1bb9",
   "metadata": {},
   "outputs": [],
   "source": [
    "#paket 1 -> internet ortalamaya göre %128 kullanılmış dolayısıyla bu paket yetersiz\n",
    "#paket 2 -> internet %50 civarlarında ve yaklaşık yarısı kullanılmış bu da ideal dengede olduğunu gösterir\n",
    "#paket 3 -> internet %30 küsürlerde olduğundan dolayı bunun fiyatı fazla gelecek ve gereksiz pahalı olacaktır"
   ]
  },
  {
   "cell_type": "code",
   "execution_count": 73,
   "id": "ed1381cb",
   "metadata": {},
   "outputs": [
    {
     "name": "stdout",
     "output_type": "stream",
     "text": [
      "     Paket  Internet     Arama       SMS\n",
      "0  Paket 1  1.277217  0.286644  0.146718\n",
      "1  Paket 2  0.510887  0.143322  0.058687\n",
      "2  Paket 3  0.319304  0.071661  0.029344\n"
     ]
    }
   ],
   "source": [
    "ratios_df = pd.DataFrame(ratio_data, columns=[\"Paket\", \"Internet\", \"Arama\", \"SMS\"])\n",
    "print(ratios_df)"
   ]
  },
  {
   "cell_type": "code",
   "execution_count": 76,
   "id": "d9376b90",
   "metadata": {},
   "outputs": [
    {
     "name": "stdout",
     "output_type": "stream",
     "text": [
      "Önerilen paket: Paket 2\n"
     ]
    }
   ],
   "source": [
    "# Ortalama hesapla\n",
    "ratios_df[\"Ortalama\"] = ratios_df[[\"Internet\", \"Arama\", \"SMS\"]].mean(axis=1)\n",
    "\n",
    "# Paket aşımı (herhangi bir oran > 1) varsa diskalifiye et\n",
    "uygunlar = ratios_df[(ratios_df[[\"Internet\", \"Arama\", \"SMS\"]] <= 1).all(axis=1)].copy()\n",
    "\n",
    "if uygunlar.empty:\n",
    "    en_uygun_index = ratios_df[\"Internet\"].idxmin()  # internet en düşük oranlı olan\n",
    "else:\n",
    "    uygunlar[\"fark\"] = abs(1 - uygunlar[\"Ortalama\"])\n",
    "    en_uygun_index = uygunlar[\"fark\"].idxmin()\n",
    "\n",
    "onerilen_paket = ratios_df.loc[en_uygun_index, \"Paket\"]\n",
    "print(\"Önerilen paket:\", onerilen_paket)\n"
   ]
  },
  {
   "cell_type": "code",
   "execution_count": 81,
   "id": "d03a104f",
   "metadata": {},
   "outputs": [
    {
     "data": {
      "image/png": "[encoded data removed]",
      "text/plain": [
       "<Figure size 800x500 with 1 Axes>"
      ]
     },
     "metadata": {},
     "output_type": "display_data"
    }
   ],
   "source": [
    "categories = [\"Internet\", \"Arama\", \"SMS\"]\n",
    "x = np.arange(len(categories))\n",
    "width = 0.25\n",
    "\n",
    "plt.figure(figsize=(8,5))\n",
    "\n",
    "# Her paketi ayrı ayrı çizdik\n",
    "for i, row in enumerate(ratios_df.itertuples()):\n",
    "    plt.bar(x + (i - 1) * width, [row.Internet, row.Arama, row.SMS],\n",
    "            width, label=row.Paket)\n",
    "#sınır gösterimi\n",
    "plt.axhline(1, color='red', linestyle='--', label='Paket Limiti')\n",
    "\n",
    "plt.xticks(x, categories)\n",
    "plt.ylabel(\"Kullanım / Limit Oranı\")\n",
    "plt.title(\"FreeZone Paket Kullanım Analizi\")\n",
    "plt.legend()\n",
    "plt.grid(axis='y', linestyle='--', alpha=0.4)\n",
    "\n",
    "plt.text(\n",
    "    0.5, 1.15, \n",
    "    f\"Önerilen Paket: {onerilen_paket}\", \n",
    "    ha='center', va='bottom', \n",
    "    fontsize=12, color='green', fontweight='bold'\n",
    ")\n",
    "plt.tight_layout()\n",
    "\n",
    "plt.savefig(\"charts/freezone_package_analysis.png\", dpi=300, bbox_inches=\"tight\")\n",
    "plt.show()"
   ]
  },
  {
   "cell_type": "code",
   "execution_count": null,
   "id": "baaae1f6",
   "metadata": {},
   "outputs": [],
   "source": []
  }
 ],
 "metadata": {
  "kernelspec": {
   "display_name": "Python 3 (ipykernel)",
   "language": "python",
   "name": "python3"
  },
  "language_info": {
   "codemirror_mode": {
    "name": "ipython",
    "version": 3
   },
   "file_extension": ".py",
   "mimetype": "text/x-python",
   "name": "python",
   "nbconvert_exporter": "python",
   "pygments_lexer": "ipython3",
   "version": "3.7.4"
  }
 },
 "nbformat": 4,
 "nbformat_minor": 5
}
